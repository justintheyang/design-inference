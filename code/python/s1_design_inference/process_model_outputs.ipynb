{
 "cells": [
  {
   "cell_type": "markdown",
   "id": "2003b7c7",
   "metadata": {},
   "source": [
    "# Process model outputs "
   ]
  },
  {
   "cell_type": "code",
   "execution_count": 2,
   "id": "1b1dd969",
   "metadata": {
    "ExecuteTime": {
     "end_time": "2025-06-01T22:47:54.423072Z",
     "start_time": "2025-06-01T22:47:53.952915Z"
    }
   },
   "outputs": [],
   "source": [
    "import os \n",
    "import sys\n",
    "import dill as pickle\n",
    "import itertools as it\n",
    "import numpy as np\n",
    "import pandas as pd\n",
    "import imageio.v2 as imageio \n",
    "from tqdm.notebook import tqdm\n",
    "from pathlib import Path\n",
    "import shutil\n",
    "\n",
    "\n",
    "project_dir = os.path.abspath('../../')\n",
    "data_dir = os.path.join(project_dir, 'data')\n",
    "model_dir = os.path.join(data_dir, 'models')\n",
    "pickle_dir = os.path.join(model_dir, 'pickles')\n",
    "records_dir = os.path.join(model_dir, 'records')\n",
    "\n",
    "sys.path.append(os.path.join(project_dir, 'gym-cooking', 'gym_cooking'))\n",
    "# import recipe_planner\n",
    "\n",
    "import warnings\n",
    "warnings.filterwarnings(\"ignore\", category=FutureWarning, module=\"seaborn\")"
   ]
  },
  {
   "cell_type": "markdown",
   "id": "5e86a5e0",
   "metadata": {},
   "source": [
    "## Process model data"
   ]
  },
  {
   "cell_type": "code",
   "execution_count": 2,
   "id": "c01f78a5",
   "metadata": {
    "ExecuteTime": {
     "end_time": "2025-06-01T22:47:54.425930Z",
     "start_time": "2025-06-01T22:47:54.424275Z"
    }
   },
   "outputs": [],
   "source": [
    "intention_agent = ['1agent', '2agent', 'either_agents']\n",
    "intention_recipe = ['onion', 'tomato', 'either_recipe']\n",
    "\n",
    "model_agent = ['1agent', '2agent']\n",
    "model_recipe = ['onion', 'tomato']\n",
    "\n",
    "n_seed = 20"
   ]
  },
  {
   "cell_type": "code",
   "execution_count": 3,
   "id": "52a5b9c1",
   "metadata": {
    "ExecuteTime": {
     "end_time": "2025-06-01T22:47:54.935531Z",
     "start_time": "2025-06-01T22:47:54.426704Z"
    }
   },
   "outputs": [],
   "source": [
    "df = []\n",
    "for ia, ir, ma, mr in it.product(intention_agent, intention_recipe, model_agent, model_recipe):\n",
    "    for seed_num in range(1, n_seed + 1):\n",
    "        fname = os.path.join(pickle_dir, f'{ia}-{ir}', f'{ma}-{mr}-seed{seed_num}.pkl')\n",
    "        if os.path.exists(fname):\n",
    "            with open(fname, 'rb') as f:\n",
    "                data = pickle.load(f)\n",
    "\n",
    "                agents = list(data['actions'].keys())\n",
    "                df.append({\n",
    "                    'intended_num_agents': ia,\n",
    "                    'intended_recipe': ir,\n",
    "                    'intention': f'{ia}-{ir}',\n",
    "                    'model_num_agents': ma,\n",
    "                    'model_recipe': mr,\n",
    "                    'model_run': f'{ma}-{mr}',\n",
    "                    'design_congruent': 'congruent' if (ia == ma) & (ir == mr) else 'incongruent',\n",
    "                    'seed': seed_num,\n",
    "                    'timesteps': len(data['actions']['agent-1']),\n",
    "                    'agent_pauses': sum([a == (0,0) for agent in agents for a in data['actions'][agent]]),\n",
    "                    'agent_collisions': len(data['collisions']),\n",
    "                    'was_successful': data['was_successful']\n",
    "                })\n",
    "\n",
    "model_df = pd.DataFrame(df)\n",
    "model_df.to_csv(os.path.join(model_dir, 'model_results.csv'), index=False)"
   ]
  },
  {
   "cell_type": "markdown",
   "id": "17afceb1",
   "metadata": {},
   "source": [
    "## Render gifs\n"
   ]
  },
  {
   "cell_type": "code",
   "execution_count": 4,
   "id": "8aa09355",
   "metadata": {
    "ExecuteTime": {
     "end_time": "2025-06-01T22:47:54.941957Z",
     "start_time": "2025-06-01T22:47:54.936974Z"
    }
   },
   "outputs": [],
   "source": [
    "def create_gifs_from_records(\n",
    "    model_dir: str, \n",
    "    framerate: float = 3.0, \n",
    "    overwrite: bool = False\n",
    "):\n",
    "    \"\"\"\n",
    "    Walk `model_dir/records/<intent>/<level>/seed=*` and, for each seed,\n",
    "    bundle all .pngs into `model_dir/gifs/<intent>/<level>/seed=<N>.gif`.\n",
    "\n",
    "    Shows two nested progress bars:\n",
    "      - Outer: over all intent/level directories (unit=\"dir\")\n",
    "      - Inner: over 20 seeds inside each directory (unit=\"seed\")\n",
    "\n",
    "    Parameters\n",
    "    ----------\n",
    "    model_dir : str\n",
    "        Path to the top‐level model folder (e.g. \"data/models\").\n",
    "    framerate : float\n",
    "        Frames per second in each output GIF.\n",
    "    overwrite : bool\n",
    "        If True, delete any existing GIFs for that intent/level before regenerating.\n",
    "        If False, skip seeds where the target GIF already exists.\n",
    "    \"\"\"\n",
    "    records_root = Path(model_dir) / \"records\"\n",
    "    gifs_root    = Path(model_dir) / \"gifs\"\n",
    "\n",
    "    if not records_root.exists():\n",
    "        raise FileNotFoundError(f\"records_root not found: {records_root}\")\n",
    "\n",
    "    # 1) Build a flat list of all (intent_dir, level_dir) pairs\n",
    "    all_dirs = []\n",
    "    for intent_dir in sorted(records_root.iterdir()):\n",
    "        if not intent_dir.is_dir():\n",
    "            continue\n",
    "        for level_dir in sorted(intent_dir.iterdir()):\n",
    "            if not level_dir.is_dir():\n",
    "                continue\n",
    "            # Only include if it has at least one seed=* subfolder\n",
    "            seed_dirs = [d for d in level_dir.iterdir() if d.is_dir() and d.name.startswith(\"seed=\")]\n",
    "            if seed_dirs:\n",
    "                all_dirs.append((intent_dir, level_dir))\n",
    "\n",
    "    # 2) Outer tqdm over all intent/level directories\n",
    "    outer = tqdm(\n",
    "        all_dirs,\n",
    "        desc=\"Directory\",\n",
    "        unit=\"dir\",\n",
    "    )\n",
    "\n",
    "    for intent_dir, level_dir in outer:\n",
    "        rel = f\"{intent_dir.name}/{level_dir.name}\"\n",
    "        # Update the outer description to show the current rel path\n",
    "        outer.set_description(f\"Directory {rel}\")\n",
    "\n",
    "        # prepare destination folder for these GIFs (and optionally wipe)\n",
    "        gif_level_dir = gifs_root / intent_dir.name / level_dir.name\n",
    "        if overwrite and gif_level_dir.exists():\n",
    "            shutil.rmtree(gif_level_dir)\n",
    "        gif_level_dir.mkdir(parents=True, exist_ok=True)\n",
    "\n",
    "        # collect all seed subfolders under this level\n",
    "        seed_dirs = sorted(\n",
    "            [d for d in level_dir.iterdir() if d.is_dir() and d.name.startswith(\"seed=\")]\n",
    "        )\n",
    "        if not seed_dirs:\n",
    "            continue\n",
    "\n",
    "        # 3) Inner tqdm over all seed folders in this level\n",
    "        inner = tqdm(\n",
    "            seed_dirs,\n",
    "            desc=\"Seed\",\n",
    "            unit=\"seed\",\n",
    "            position=1,\n",
    "            leave=False,\n",
    "        )\n",
    "        for seed_dir in inner:\n",
    "            # Extract numeric seed (e.g. \"seed=2\" → \"2\")\n",
    "            seed_num = seed_dir.name.split(\"=\", 1)[1]\n",
    "            inner.set_description(f\"Seed {seed_num}\")\n",
    "\n",
    "            gif_path = gif_level_dir / f\"{seed_dir.name}.gif\"\n",
    "            if gif_path.exists() and not overwrite:\n",
    "                continue\n",
    "\n",
    "            # gather all pngs in this seed folder\n",
    "            png_files = sorted(seed_dir.glob(\"*.png\"))\n",
    "            if not png_files:\n",
    "                continue\n",
    "\n",
    "            # write the GIF\n",
    "            with imageio.get_writer(str(gif_path), mode=\"I\", fps=framerate) as writer:\n",
    "                for png in png_files:\n",
    "                    frame = imageio.imread(str(png))\n",
    "                    writer.append_data(frame)\n",
    "\n",
    "        inner.close()\n",
    "\n",
    "    outer.close()\n",
    "    \n",
    "    out = shutil.make_archive(\n",
    "            base_name=Path(gifs_root, 'model_run_gifs'), \n",
    "            format=\"zip\", \n",
    "            root_dir=str(gifs_root),\n",
    "            base_dir=\".\")\n",
    "    \n",
    "    print(f'Saved to {out}')\n"
   ]
  },
  {
   "cell_type": "code",
   "execution_count": 5,
   "id": "0df82850",
   "metadata": {
    "ExecuteTime": {
     "end_time": "2025-06-01T22:56:38.343892Z",
     "start_time": "2025-06-01T22:47:54.942715Z"
    }
   },
   "outputs": [
    {
     "data": {
      "application/vnd.jupyter.widget-view+json": {
       "model_id": "64ac16e4e0834c1a8ceca66083a72d71",
       "version_major": 2,
       "version_minor": 0
      },
      "text/plain": [
       "Directory:   0%|          | 0/36 [00:00<?, ?dir/s]"
      ]
     },
     "metadata": {},
     "output_type": "display_data"
    },
    {
     "data": {
      "application/vnd.jupyter.widget-view+json": {
       "model_id": "",
       "version_major": 2,
       "version_minor": 0
      },
      "text/plain": [
       "Seed:   0%|          | 0/20 [00:00<?, ?seed/s]"
      ]
     },
     "metadata": {},
     "output_type": "display_data"
    },
    {
     "data": {
      "application/vnd.jupyter.widget-view+json": {
       "model_id": "",
       "version_major": 2,
       "version_minor": 0
      },
      "text/plain": [
       "Seed:   0%|          | 0/20 [00:00<?, ?seed/s]"
      ]
     },
     "metadata": {},
     "output_type": "display_data"
    },
    {
     "data": {
      "application/vnd.jupyter.widget-view+json": {
       "model_id": "",
       "version_major": 2,
       "version_minor": 0
      },
      "text/plain": [
       "Seed:   0%|          | 0/20 [00:00<?, ?seed/s]"
      ]
     },
     "metadata": {},
     "output_type": "display_data"
    },
    {
     "data": {
      "application/vnd.jupyter.widget-view+json": {
       "model_id": "",
       "version_major": 2,
       "version_minor": 0
      },
      "text/plain": [
       "Seed:   0%|          | 0/20 [00:00<?, ?seed/s]"
      ]
     },
     "metadata": {},
     "output_type": "display_data"
    },
    {
     "data": {
      "application/vnd.jupyter.widget-view+json": {
       "model_id": "",
       "version_major": 2,
       "version_minor": 0
      },
      "text/plain": [
       "Seed:   0%|          | 0/20 [00:00<?, ?seed/s]"
      ]
     },
     "metadata": {},
     "output_type": "display_data"
    },
    {
     "data": {
      "application/vnd.jupyter.widget-view+json": {
       "model_id": "",
       "version_major": 2,
       "version_minor": 0
      },
      "text/plain": [
       "Seed:   0%|          | 0/20 [00:00<?, ?seed/s]"
      ]
     },
     "metadata": {},
     "output_type": "display_data"
    },
    {
     "data": {
      "application/vnd.jupyter.widget-view+json": {
       "model_id": "",
       "version_major": 2,
       "version_minor": 0
      },
      "text/plain": [
       "Seed:   0%|          | 0/20 [00:00<?, ?seed/s]"
      ]
     },
     "metadata": {},
     "output_type": "display_data"
    },
    {
     "data": {
      "application/vnd.jupyter.widget-view+json": {
       "model_id": "",
       "version_major": 2,
       "version_minor": 0
      },
      "text/plain": [
       "Seed:   0%|          | 0/20 [00:00<?, ?seed/s]"
      ]
     },
     "metadata": {},
     "output_type": "display_data"
    },
    {
     "data": {
      "application/vnd.jupyter.widget-view+json": {
       "model_id": "",
       "version_major": 2,
       "version_minor": 0
      },
      "text/plain": [
       "Seed:   0%|          | 0/20 [00:00<?, ?seed/s]"
      ]
     },
     "metadata": {},
     "output_type": "display_data"
    },
    {
     "data": {
      "application/vnd.jupyter.widget-view+json": {
       "model_id": "",
       "version_major": 2,
       "version_minor": 0
      },
      "text/plain": [
       "Seed:   0%|          | 0/20 [00:00<?, ?seed/s]"
      ]
     },
     "metadata": {},
     "output_type": "display_data"
    },
    {
     "data": {
      "application/vnd.jupyter.widget-view+json": {
       "model_id": "",
       "version_major": 2,
       "version_minor": 0
      },
      "text/plain": [
       "Seed:   0%|          | 0/20 [00:00<?, ?seed/s]"
      ]
     },
     "metadata": {},
     "output_type": "display_data"
    },
    {
     "data": {
      "application/vnd.jupyter.widget-view+json": {
       "model_id": "",
       "version_major": 2,
       "version_minor": 0
      },
      "text/plain": [
       "Seed:   0%|          | 0/20 [00:00<?, ?seed/s]"
      ]
     },
     "metadata": {},
     "output_type": "display_data"
    },
    {
     "data": {
      "application/vnd.jupyter.widget-view+json": {
       "model_id": "",
       "version_major": 2,
       "version_minor": 0
      },
      "text/plain": [
       "Seed:   0%|          | 0/20 [00:00<?, ?seed/s]"
      ]
     },
     "metadata": {},
     "output_type": "display_data"
    },
    {
     "data": {
      "application/vnd.jupyter.widget-view+json": {
       "model_id": "",
       "version_major": 2,
       "version_minor": 0
      },
      "text/plain": [
       "Seed:   0%|          | 0/20 [00:00<?, ?seed/s]"
      ]
     },
     "metadata": {},
     "output_type": "display_data"
    },
    {
     "data": {
      "application/vnd.jupyter.widget-view+json": {
       "model_id": "",
       "version_major": 2,
       "version_minor": 0
      },
      "text/plain": [
       "Seed:   0%|          | 0/20 [00:00<?, ?seed/s]"
      ]
     },
     "metadata": {},
     "output_type": "display_data"
    },
    {
     "data": {
      "application/vnd.jupyter.widget-view+json": {
       "model_id": "",
       "version_major": 2,
       "version_minor": 0
      },
      "text/plain": [
       "Seed:   0%|          | 0/20 [00:00<?, ?seed/s]"
      ]
     },
     "metadata": {},
     "output_type": "display_data"
    },
    {
     "data": {
      "application/vnd.jupyter.widget-view+json": {
       "model_id": "",
       "version_major": 2,
       "version_minor": 0
      },
      "text/plain": [
       "Seed:   0%|          | 0/20 [00:00<?, ?seed/s]"
      ]
     },
     "metadata": {},
     "output_type": "display_data"
    },
    {
     "data": {
      "application/vnd.jupyter.widget-view+json": {
       "model_id": "",
       "version_major": 2,
       "version_minor": 0
      },
      "text/plain": [
       "Seed:   0%|          | 0/20 [00:00<?, ?seed/s]"
      ]
     },
     "metadata": {},
     "output_type": "display_data"
    },
    {
     "data": {
      "application/vnd.jupyter.widget-view+json": {
       "model_id": "",
       "version_major": 2,
       "version_minor": 0
      },
      "text/plain": [
       "Seed:   0%|          | 0/20 [00:00<?, ?seed/s]"
      ]
     },
     "metadata": {},
     "output_type": "display_data"
    },
    {
     "data": {
      "application/vnd.jupyter.widget-view+json": {
       "model_id": "",
       "version_major": 2,
       "version_minor": 0
      },
      "text/plain": [
       "Seed:   0%|          | 0/20 [00:00<?, ?seed/s]"
      ]
     },
     "metadata": {},
     "output_type": "display_data"
    },
    {
     "data": {
      "application/vnd.jupyter.widget-view+json": {
       "model_id": "",
       "version_major": 2,
       "version_minor": 0
      },
      "text/plain": [
       "Seed:   0%|          | 0/20 [00:00<?, ?seed/s]"
      ]
     },
     "metadata": {},
     "output_type": "display_data"
    },
    {
     "data": {
      "application/vnd.jupyter.widget-view+json": {
       "model_id": "",
       "version_major": 2,
       "version_minor": 0
      },
      "text/plain": [
       "Seed:   0%|          | 0/20 [00:00<?, ?seed/s]"
      ]
     },
     "metadata": {},
     "output_type": "display_data"
    },
    {
     "data": {
      "application/vnd.jupyter.widget-view+json": {
       "model_id": "",
       "version_major": 2,
       "version_minor": 0
      },
      "text/plain": [
       "Seed:   0%|          | 0/20 [00:00<?, ?seed/s]"
      ]
     },
     "metadata": {},
     "output_type": "display_data"
    },
    {
     "data": {
      "application/vnd.jupyter.widget-view+json": {
       "model_id": "",
       "version_major": 2,
       "version_minor": 0
      },
      "text/plain": [
       "Seed:   0%|          | 0/20 [00:00<?, ?seed/s]"
      ]
     },
     "metadata": {},
     "output_type": "display_data"
    },
    {
     "data": {
      "application/vnd.jupyter.widget-view+json": {
       "model_id": "",
       "version_major": 2,
       "version_minor": 0
      },
      "text/plain": [
       "Seed:   0%|          | 0/20 [00:00<?, ?seed/s]"
      ]
     },
     "metadata": {},
     "output_type": "display_data"
    },
    {
     "data": {
      "application/vnd.jupyter.widget-view+json": {
       "model_id": "",
       "version_major": 2,
       "version_minor": 0
      },
      "text/plain": [
       "Seed:   0%|          | 0/20 [00:00<?, ?seed/s]"
      ]
     },
     "metadata": {},
     "output_type": "display_data"
    },
    {
     "data": {
      "application/vnd.jupyter.widget-view+json": {
       "model_id": "",
       "version_major": 2,
       "version_minor": 0
      },
      "text/plain": [
       "Seed:   0%|          | 0/20 [00:00<?, ?seed/s]"
      ]
     },
     "metadata": {},
     "output_type": "display_data"
    },
    {
     "data": {
      "application/vnd.jupyter.widget-view+json": {
       "model_id": "",
       "version_major": 2,
       "version_minor": 0
      },
      "text/plain": [
       "Seed:   0%|          | 0/20 [00:00<?, ?seed/s]"
      ]
     },
     "metadata": {},
     "output_type": "display_data"
    },
    {
     "data": {
      "application/vnd.jupyter.widget-view+json": {
       "model_id": "",
       "version_major": 2,
       "version_minor": 0
      },
      "text/plain": [
       "Seed:   0%|          | 0/20 [00:00<?, ?seed/s]"
      ]
     },
     "metadata": {},
     "output_type": "display_data"
    },
    {
     "data": {
      "application/vnd.jupyter.widget-view+json": {
       "model_id": "",
       "version_major": 2,
       "version_minor": 0
      },
      "text/plain": [
       "Seed:   0%|          | 0/20 [00:00<?, ?seed/s]"
      ]
     },
     "metadata": {},
     "output_type": "display_data"
    },
    {
     "data": {
      "application/vnd.jupyter.widget-view+json": {
       "model_id": "",
       "version_major": 2,
       "version_minor": 0
      },
      "text/plain": [
       "Seed:   0%|          | 0/20 [00:00<?, ?seed/s]"
      ]
     },
     "metadata": {},
     "output_type": "display_data"
    },
    {
     "data": {
      "application/vnd.jupyter.widget-view+json": {
       "model_id": "",
       "version_major": 2,
       "version_minor": 0
      },
      "text/plain": [
       "Seed:   0%|          | 0/20 [00:00<?, ?seed/s]"
      ]
     },
     "metadata": {},
     "output_type": "display_data"
    },
    {
     "data": {
      "application/vnd.jupyter.widget-view+json": {
       "model_id": "",
       "version_major": 2,
       "version_minor": 0
      },
      "text/plain": [
       "Seed:   0%|          | 0/20 [00:00<?, ?seed/s]"
      ]
     },
     "metadata": {},
     "output_type": "display_data"
    },
    {
     "data": {
      "application/vnd.jupyter.widget-view+json": {
       "model_id": "",
       "version_major": 2,
       "version_minor": 0
      },
      "text/plain": [
       "Seed:   0%|          | 0/20 [00:00<?, ?seed/s]"
      ]
     },
     "metadata": {},
     "output_type": "display_data"
    },
    {
     "data": {
      "application/vnd.jupyter.widget-view+json": {
       "model_id": "",
       "version_major": 2,
       "version_minor": 0
      },
      "text/plain": [
       "Seed:   0%|          | 0/20 [00:00<?, ?seed/s]"
      ]
     },
     "metadata": {},
     "output_type": "display_data"
    },
    {
     "data": {
      "application/vnd.jupyter.widget-view+json": {
       "model_id": "",
       "version_major": 2,
       "version_minor": 0
      },
      "text/plain": [
       "Seed:   0%|          | 0/20 [00:00<?, ?seed/s]"
      ]
     },
     "metadata": {},
     "output_type": "display_data"
    },
    {
     "name": "stdout",
     "output_type": "stream",
     "text": [
      "Saved to /Users/justyang/Code/design-inference/data/models/gifs/model_run_gifs.zip\n"
     ]
    }
   ],
   "source": [
    "reallyRun = True\n",
    "if reallyRun:\n",
    "    create_gifs_from_records(model_dir, framerate=3, overwrite=True)"
   ]
  }
 ],
 "metadata": {
  "kernelspec": {
   "display_name": "Python 3 (ipykernel)",
   "language": "python",
   "name": "python3"
  },
  "language_info": {
   "codemirror_mode": {
    "name": "ipython",
    "version": 3
   },
   "file_extension": ".py",
   "mimetype": "text/x-python",
   "name": "python",
   "nbconvert_exporter": "python",
   "pygments_lexer": "ipython3",
   "version": "3.12.9"
  }
 },
 "nbformat": 4,
 "nbformat_minor": 5
}
