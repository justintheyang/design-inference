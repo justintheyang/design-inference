{
 "cells": [
  {
   "cell_type": "markdown",
   "id": "0921a740",
   "metadata": {},
   "source": [
    "# Pull data from OSF and proprocess"
   ]
  },
  {
   "cell_type": "code",
   "execution_count": 1,
   "id": "11f47082",
   "metadata": {
    "ExecuteTime": {
     "end_time": "2025-06-01T23:12:11.878848Z",
     "start_time": "2025-06-01T23:12:11.431293Z"
    }
   },
   "outputs": [],
   "source": [
    "import os\n",
    "import re\n",
    "import ast\n",
    "import json\n",
    "import uuid\n",
    "import numpy as np\n",
    "import pandas as pd\n",
    "from functools import reduce\n",
    "\n",
    "from osf_data_handler import OSFDataHandler"
   ]
  },
  {
   "cell_type": "code",
   "execution_count": 2,
   "id": "60ab0194",
   "metadata": {
    "ExecuteTime": {
     "end_time": "2025-06-01T23:12:34.553735Z",
     "start_time": "2025-06-01T23:12:12.503061Z"
    }
   },
   "outputs": [
    {
     "name": "stdout",
     "output_type": "stream",
     "text": [
      "Loaded 10 CSV files from project 'design-inference-exp1' (OSF node ajz2t).\n"
     ]
    }
   ],
   "source": [
    "criteria = {\n",
    "    'project': 'design_inference',\n",
    "    'experiment': 'exp1',\n",
    "    'iteration_name': 'pilot_local_2',\n",
    "}\n",
    "\n",
    "osf_handler = OSFDataHandler('ajz2t')\n",
    "\n",
    "df = osf_handler.load_filtered_csvs(criteria)"
   ]
  },
  {
   "cell_type": "markdown",
   "id": "931a48f1",
   "metadata": {},
   "source": [
    "## Make session-level dataframe\n",
    "A row in this dataframe corresponds to one session (one participants' worth of data). \n",
    "\n",
    "The primary key is `game_id`."
   ]
  },
  {
   "cell_type": "code",
   "execution_count": 3,
   "id": "94055d09",
   "metadata": {
    "ExecuteTime": {
     "end_time": "2025-06-01T23:12:34.562778Z",
     "start_time": "2025-06-01T23:12:34.557241Z"
    },
    "code_folding": []
   },
   "outputs": [],
   "source": [
    "session_rename_map = {\n",
    "    'gameID': 'game_id',\n",
    "#     'condition': 'condition',\n",
    "    'iteration_name': 'iteration',\n",
    "    'dev_mode': 'dev_mode',\n",
    "    'project': 'project',\n",
    "    'experiment': 'experiment',\n",
    "\n",
    "    'startExperimentTS': 'start_experiment_ts',\n",
    "    'endExperimentTS': 'end_experiment_ts',\n",
    "    \n",
    "    'participantYears': 'age',\n",
    "    'participantGender': 'gender',\n",
    "    'participantRace': 'race',\n",
    "    'participantEthnicity': 'ethnicity',\n",
    "    'participantComments': 'feedback',\n",
    "    'TechnicalDifficultiesFreeResp': 'technical_difficulties',\n",
    "    'comprehensionAttempts': 'comprehension_attempts',\n",
    "    'participantEffort': 'judged_effort',\n",
    "    'judgedDifficulty': 'judged_difficulty',\n",
    "    'inputDevice': 'input_device',\n",
    "    'lottery': 'lottery',\n",
    "    \n",
    "    'width': 'browser_width',\n",
    "    'height': 'browser_height',\n",
    "    'browser': 'browser',\n",
    "    'mobile': 'is_mobile_device'\n",
    "}\n",
    "\n",
    "session_order = [\n",
    "    \"game_id\", \n",
    "    \"project\", \"experiment\", \"iteration\", \"dev_mode\", #condition\n",
    "    \"browser\", \"browser_width\", \"browser_height\", \"is_mobile_device\",\n",
    "    \"start_experiment_ts\", \"end_experiment_ts\", \"experiment_duration_ms\",\n",
    "    \"comprehension_attempts\",\n",
    "    \"lottery\",\n",
    "    \"age\", \"gender\", \"race\", \"ethnicity\",\n",
    "    \"judged_difficulty\", \"judged_effort\", \"input_device\",\n",
    "    \"feedback\", \"technical_difficulties\"\n",
    "]"
   ]
  },
  {
   "cell_type": "code",
   "execution_count": 4,
   "id": "cfef06ab",
   "metadata": {
    "ExecuteTime": {
     "end_time": "2025-06-01T23:12:34.590562Z",
     "start_time": "2025-06-01T23:12:34.565232Z"
    }
   },
   "outputs": [
    {
     "name": "stdout",
     "output_type": "stream",
     "text": [
      "10 \n",
      "\n",
      "game_id                           0603-f5fd0cc7-7916-46b5-96bf-111f27ae8482\n",
      "project                                                    design_inference\n",
      "experiment                                                             exp1\n",
      "iteration                                                     pilot_local_2\n",
      "dev_mode                                                              False\n",
      "browser                                                                 ios\n",
      "browser_width                                                         393.0\n",
      "browser_height                                                        666.0\n",
      "is_mobile_device                                                       True\n",
      "start_experiment_ts                                         1748805599836.0\n",
      "end_experiment_ts                                           1748805958380.0\n",
      "experiment_duration_ms                                             358544.0\n",
      "comprehension_attempts                                                  0.0\n",
      "lottery                                                                None\n",
      "age                                                                      25\n",
      "gender                                                               Female\n",
      "race                                                                  Other\n",
      "ethnicity                                                      Non-Hispanic\n",
      "judged_difficulty                                                         2\n",
      "judged_effort                                                             3\n",
      "input_device                                                   Touch Screen\n",
      "feedback                  Tutorial video primed me to think about two ch...\n",
      "technical_difficulties    Hard to adjust sliders on mobile, but that’s o...\n",
      "Name: 0, dtype: object\n"
     ]
    }
   ],
   "source": [
    "# Extract session data\n",
    "session_df = []\n",
    "for game_id, group in df.groupby('gameID'):\n",
    "    if not (group.trial_type == 'survey').any():\n",
    "        continue\n",
    "    S = group[group.trial_type.isna()]\n",
    "    session = S.iloc[0][~S.iloc[0].isna()]\n",
    "    session_data = {session_rename_map[k]: v for k, v in session.items() if k in session_rename_map}\n",
    "    session_data['experiment_duration_ms'] = session.endExperimentTS - session.startExperimentTS\n",
    "    survey_data = json.loads(group[group.trial_type == 'survey'].iloc[0].response)\n",
    "    survey_data = {session_rename_map[k]: v for k, v in survey_data.items() if k in session_rename_map}\n",
    "\n",
    "    browser = group[group.trial_type == 'browser-check'].iloc[0][['width', 'height', 'browser', 'mobile']]\n",
    "    browser = {session_rename_map[k]: v for k, v in browser.items() if k in session_rename_map}\n",
    "\n",
    "    session_df.append({**session_data, **survey_data, **browser})\n",
    "session_df = pd.DataFrame(session_df)[session_order].reset_index(drop=True)\n",
    "\n",
    "print(session_df.game_id.nunique(), '\\n')\n",
    "print(session_df.iloc[0])"
   ]
  },
  {
   "cell_type": "markdown",
   "id": "5fb746b9",
   "metadata": {},
   "source": [
    "## Make trial-level dataframe\n",
    "\n",
    "A row in this dataframe corresponds to one trial, either `quicksand-observe`, `quicksand-simulate`, or `quicksand-eval-navigation`. \n",
    "\n",
    "The primary key is `trial_id`."
   ]
  },
  {
   "cell_type": "code",
   "execution_count": 5,
   "id": "34103723",
   "metadata": {
    "ExecuteTime": {
     "end_time": "2025-06-01T23:12:34.609657Z",
     "start_time": "2025-06-01T23:12:34.598342Z"
    }
   },
   "outputs": [],
   "source": [
    "df['trial_id'] = [str(uuid.uuid4()) for i in range(len(df))]\n",
    "\n",
    "trial_df = df.loc[\n",
    "    df.trial_type == 'survey-slider',\n",
    "    ['trial_id', 'gameID', 'rt', 'trial_index', 'response', 'questions', 'preamble']\n",
    "]\n",
    "trial_df['trial_num'] = trial_df.groupby('gameID').trial_index.rank(method='first') - 1\n",
    "trial_df['slider_num_agents'] = trial_df.response.apply(lambda x: json.loads(x)['intent_agents'])\n",
    "trial_df['slider_recipe'] = trial_df.response.apply(lambda x: json.loads(x)['intent_recipe'])\n",
    "trial_df['trial_stim'] = trial_df.preamble.apply(\n",
    "    lambda x: re.search(r'stims/([^\\.]+)\\.png', json.loads(x)).group(1))\n",
    "trial_df[['true_num_agents', 'true_recipe']] = trial_df.trial_stim.str.split('-', expand=True)\n",
    "trial_df['slider_min_agents'] = '1agent'\n",
    "trial_df['slider_max_agents'] = '2agent'\n",
    "trial_df['slider_min_recipe'] = 'tomato'\n",
    "trial_df['slider_max_recipe'] = 'onion'\n",
    "trial_df = trial_df.drop(columns=['trial_index', 'response', 'questions', 'preamble'])\n",
    "trial_df = trial_df.rename(columns={'gameID':'game_id'})"
   ]
  },
  {
   "cell_type": "code",
   "execution_count": 6,
   "id": "a3056a86",
   "metadata": {
    "ExecuteTime": {
     "end_time": "2025-06-01T23:12:34.614455Z",
     "start_time": "2025-06-01T23:12:34.610618Z"
    }
   },
   "outputs": [
    {
     "data": {
      "text/plain": [
       "trial_id                  2e78b037-09d8-429b-8ac3-184bb29bc94c\n",
       "game_id              1070-5f4cab90-27e4-4dac-88fe-8499ae78c1d7\n",
       "rt                                                      7870.9\n",
       "trial_num                                                  0.0\n",
       "slider_num_agents                                           12\n",
       "slider_recipe                                               75\n",
       "trial_stim                                        1agent-onion\n",
       "true_num_agents                                         1agent\n",
       "true_recipe                                              onion\n",
       "slider_min_agents                                       1agent\n",
       "slider_max_agents                                       2agent\n",
       "slider_min_recipe                                       tomato\n",
       "slider_max_recipe                                        onion\n",
       "Name: 7, dtype: object"
      ]
     },
     "execution_count": 6,
     "metadata": {},
     "output_type": "execute_result"
    }
   ],
   "source": [
    "trial_df.iloc[0]"
   ]
  },
  {
   "cell_type": "markdown",
   "id": "de6522bf",
   "metadata": {},
   "source": [
    "#### Misc stats"
   ]
  },
  {
   "cell_type": "code",
   "execution_count": 7,
   "id": "a90b2d09",
   "metadata": {
    "ExecuteTime": {
     "end_time": "2025-06-01T23:12:34.618220Z",
     "start_time": "2025-06-01T23:12:34.615583Z"
    }
   },
   "outputs": [
    {
     "data": {
      "text/plain": [
       "5.390256666666668"
      ]
     },
     "execution_count": 7,
     "metadata": {},
     "output_type": "execute_result"
    }
   ],
   "source": [
    "(session_df.experiment_duration_ms / (1000*60)).mean()"
   ]
  },
  {
   "cell_type": "code",
   "execution_count": 8,
   "id": "5e956f9c",
   "metadata": {
    "ExecuteTime": {
     "end_time": "2025-06-01T23:12:34.621789Z",
     "start_time": "2025-06-01T23:12:34.619366Z"
    }
   },
   "outputs": [
    {
     "name": "stdout",
     "output_type": "stream",
     "text": [
      "Hard to adjust sliders on mobile, but that’s on me for answering this on mobile.\n",
      "Tutorial video primed me to think about two chefs, and since the kitchen is large and it’s size was held constant, I found it difficult to envision a one-chef layout. \n",
      "\n",
      "None\n",
      "The amount of space between the cutting boards; the closeness of the tomato/onion to the cutting boards \n",
      "\n",
      "None\n",
      "None \n",
      "\n",
      "None\n",
      "I have seen a similar video-game in the past. I used the heuristic \"2 chopping boards = >1 person\" but realized later that with a space constraint 2 people may not really be able to chop at the same time. \n",
      "\n",
      "Nope, worked as expected. Nice study.\n",
      "It was interesting! Fun :) \n",
      "\n",
      "None\n",
      "Was also in a conversation while doing this \n",
      "\n",
      "None\n",
      "None \n",
      "\n",
      "None\n",
      "None \n",
      "\n",
      "None\n",
      "None \n",
      "\n",
      "None\n",
      "you cant use both chopping boards in some kitchens (based on overcook logic, at least lol) \n",
      "\n"
     ]
    }
   ],
   "source": [
    "for i, row in session_df.iterrows():\n",
    "    print(row.technical_difficulties)\n",
    "    print(row.feedback, '\\n')"
   ]
  },
  {
   "cell_type": "code",
   "execution_count": 10,
   "id": "62c104ff",
   "metadata": {
    "ExecuteTime": {
     "end_time": "2025-06-01T23:12:55.718112Z",
     "start_time": "2025-06-01T23:12:55.705632Z"
    }
   },
   "outputs": [
    {
     "data": {
      "text/plain": [
       "0                        None\n",
       "1                        None\n",
       "2                        None\n",
       "3        vedansh@stanford.edu\n",
       "4         calebhwin@gmail.com\n",
       "5    cherriechang15@gmail.com\n",
       "6        veronat@stanford.edu\n",
       "7       sarahawu@stanford.edu\n",
       "8                        None\n",
       "9                        None\n",
       "Name: lottery, dtype: object"
      ]
     },
     "execution_count": 10,
     "metadata": {},
     "output_type": "execute_result"
    }
   ],
   "source": [
    "session_df.lottery"
   ]
  },
  {
   "cell_type": "code",
   "execution_count": 9,
   "id": "e9e1386c",
   "metadata": {
    "ExecuteTime": {
     "end_time": "2025-06-01T23:12:34.628491Z",
     "start_time": "2025-06-01T23:12:34.622536Z"
    }
   },
   "outputs": [
    {
     "name": "stdout",
     "output_type": "stream",
     "text": [
      "saved data to /Users/justyang/Code/design-inference/data/behavioral_results/exp1/pilot_local_2...\n"
     ]
    }
   ],
   "source": [
    "project_dir = os.path.abspath('../../')\n",
    "save_dir = os.path.join(project_dir, \n",
    "                        'data', \n",
    "                        'behavioral_results', \n",
    "                        criteria['experiment'], \n",
    "                        criteria['iteration_name'])\n",
    "\n",
    "save_data = True\n",
    "if save_data:\n",
    "    if not os.path.exists(save_dir):\n",
    "        os.makedirs(save_dir)\n",
    "\n",
    "    session_df.to_csv(os.path.join(save_dir, 'session_data.csv'), index=True)\n",
    "    trial_df.to_csv(os.path.join(save_dir, 'trial_data.csv'), index=True)\n",
    "    print(f'saved data to {save_dir}...')\n",
    "else:\n",
    "    session_df = pd.read_csv(os.path.join(save_dir, 'session_data.csv'))\n",
    "    trial_df = pd.read_csv(os.path.join(save_dir, 'trial_data.csv'))"
   ]
  }
 ],
 "metadata": {
  "kernelspec": {
   "display_name": "Python [conda env:jupyter_notebook] *",
   "language": "python",
   "name": "conda-env-jupyter_notebook-py"
  },
  "language_info": {
   "codemirror_mode": {
    "name": "ipython",
    "version": 3
   },
   "file_extension": ".py",
   "mimetype": "text/x-python",
   "name": "python",
   "nbconvert_exporter": "python",
   "pygments_lexer": "ipython3",
   "version": "3.10.13"
  }
 },
 "nbformat": 4,
 "nbformat_minor": 5
}
