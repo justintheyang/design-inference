{
 "cells": [
  {
   "cell_type": "markdown",
   "id": "0921a740",
   "metadata": {},
   "source": [
    "# Pull data from OSF and proprocess"
   ]
  },
  {
   "cell_type": "code",
   "execution_count": 1,
   "id": "11f47082",
   "metadata": {
    "ExecuteTime": {
     "end_time": "2025-06-01T09:05:21.878924Z",
     "start_time": "2025-06-01T09:05:21.486383Z"
    }
   },
   "outputs": [],
   "source": [
    "import os\n",
    "import re\n",
    "import ast\n",
    "import json\n",
    "import uuid\n",
    "import numpy as np\n",
    "import pandas as pd\n",
    "from functools import reduce\n",
    "\n",
    "from osf_data_handler import OSFDataHandler"
   ]
  },
  {
   "cell_type": "code",
   "execution_count": 2,
   "id": "60ab0194",
   "metadata": {
    "ExecuteTime": {
     "end_time": "2025-06-01T09:05:31.662886Z",
     "start_time": "2025-06-01T09:05:21.880047Z"
    }
   },
   "outputs": [
    {
     "name": "stdout",
     "output_type": "stream",
     "text": [
      "Loaded 3 CSV files from project 'design-inference-exp1' (OSF node ajz2t).\n"
     ]
    }
   ],
   "source": [
    "criteria = {\n",
    "    'project': 'design_inference',\n",
    "    'experiment': 'exp1',\n",
    "    'iteration_name': 'pilot_local_2',\n",
    "}\n",
    "\n",
    "osf_handler = OSFDataHandler('ajz2t')\n",
    "\n",
    "df = osf_handler.load_filtered_csvs(criteria)"
   ]
  },
  {
   "cell_type": "markdown",
   "id": "931a48f1",
   "metadata": {},
   "source": [
    "## Make session-level dataframe\n",
    "A row in this dataframe corresponds to one session (one participants' worth of data). \n",
    "\n",
    "The primary key is `game_id`."
   ]
  },
  {
   "cell_type": "code",
   "execution_count": 3,
   "id": "94055d09",
   "metadata": {
    "ExecuteTime": {
     "end_time": "2025-06-01T09:05:31.672856Z",
     "start_time": "2025-06-01T09:05:31.666055Z"
    },
    "code_folding": []
   },
   "outputs": [],
   "source": [
    "session_rename_map = {\n",
    "    'gameID': 'game_id',\n",
    "#     'condition': 'condition',\n",
    "    'iteration_name': 'iteration',\n",
    "    'dev_mode': 'dev_mode',\n",
    "    'project': 'project',\n",
    "    'experiment': 'experiment',\n",
    "\n",
    "    'startExperimentTS': 'start_experiment_ts',\n",
    "    'endExperimentTS': 'end_experiment_ts',\n",
    "    \n",
    "    'participantYears': 'age',\n",
    "    'participantGender': 'gender',\n",
    "    'participantRace': 'race',\n",
    "    'participantEthnicity': 'ethnicity',\n",
    "    'participantComments': 'feedback',\n",
    "    'TechnicalDifficultiesFreeResp': 'technical_difficulties',\n",
    "    'comprehensionAttempts': 'comprehension_attempts',\n",
    "    'participantEffort': 'judged_effort',\n",
    "    'judgedDifficulty': 'judged_difficulty',\n",
    "    'inputDevice': 'input_device',\n",
    "    'lottery': 'lottery',\n",
    "    \n",
    "    'width': 'browser_width',\n",
    "    'height': 'browser_height',\n",
    "    'browser': 'browser',\n",
    "    'mobile': 'is_mobile_device'\n",
    "}\n",
    "\n",
    "session_order = [\n",
    "    \"game_id\", \n",
    "    \"project\", \"experiment\", \"iteration\", \"dev_mode\", #condition\n",
    "    \"browser\", \"browser_width\", \"browser_height\", \"is_mobile_device\",\n",
    "    \"start_experiment_ts\", \"end_experiment_ts\", \"experiment_duration_ms\",\n",
    "    \"comprehension_attempts\",\n",
    "    \"lottery\",\n",
    "    \"age\", \"gender\", \"race\", \"ethnicity\",\n",
    "    \"judged_difficulty\", \"judged_effort\", \"input_device\",\n",
    "    \"feedback\", \"technical_difficulties\"\n",
    "]"
   ]
  },
  {
   "cell_type": "code",
   "execution_count": 4,
   "id": "cfef06ab",
   "metadata": {
    "ExecuteTime": {
     "end_time": "2025-06-01T09:05:31.696026Z",
     "start_time": "2025-06-01T09:05:31.677608Z"
    }
   },
   "outputs": [
    {
     "name": "stdout",
     "output_type": "stream",
     "text": [
      "3 \n",
      "\n",
      "game_id                           1070-5f4cab90-27e4-4dac-88fe-8499ae78c1d7\n",
      "project                                                    design_inference\n",
      "experiment                                                             exp1\n",
      "iteration                                                     pilot_local_2\n",
      "dev_mode                                                              False\n",
      "browser                                                              chrome\n",
      "browser_width                                                        1424.0\n",
      "browser_height                                                        786.0\n",
      "is_mobile_device                                                      False\n",
      "start_experiment_ts                                         1748763133146.0\n",
      "end_experiment_ts                                           1748763336727.0\n",
      "experiment_duration_ms                                             203581.0\n",
      "comprehension_attempts                                                  0.0\n",
      "lottery                                                                None\n",
      "age                                                                      22\n",
      "gender                                                               Female\n",
      "race                                                                  Asian\n",
      "ethnicity                                                      Non-Hispanic\n",
      "judged_difficulty                                                         4\n",
      "judged_effort                                                             3\n",
      "input_device                                                       Trackpad\n",
      "feedback                  The amount of space between the cutting boards...\n",
      "technical_difficulties                                                 None\n",
      "Name: 0, dtype: object\n"
     ]
    }
   ],
   "source": [
    "# Extract session data\n",
    "session_df = []\n",
    "for game_id, group in df.groupby('gameID'):\n",
    "    if not (group.trial_type == 'survey').any():\n",
    "        continue\n",
    "    S = group[group.trial_type.isna()]\n",
    "    session = S.iloc[0][~S.iloc[0].isna()]\n",
    "    session_data = {session_rename_map[k]: v for k, v in session.items() if k in session_rename_map}\n",
    "    session_data['experiment_duration_ms'] = session.endExperimentTS - session.startExperimentTS\n",
    "    survey_data = json.loads(group[group.trial_type == 'survey'].iloc[0].response)\n",
    "    survey_data = {session_rename_map[k]: v for k, v in survey_data.items() if k in session_rename_map}\n",
    "\n",
    "    browser = group[group.trial_type == 'browser-check'].iloc[0][['width', 'height', 'browser', 'mobile']]\n",
    "    browser = {session_rename_map[k]: v for k, v in browser.items() if k in session_rename_map}\n",
    "\n",
    "    session_df.append({**session_data, **survey_data, **browser})\n",
    "session_df = pd.DataFrame(session_df)[session_order].reset_index(drop=True)\n",
    "\n",
    "print(session_df.game_id.nunique(), '\\n')\n",
    "print(session_df.iloc[0])"
   ]
  },
  {
   "cell_type": "markdown",
   "id": "5fb746b9",
   "metadata": {},
   "source": [
    "## Make trial-level dataframe\n",
    "\n",
    "A row in this dataframe corresponds to one trial, either `quicksand-observe`, `quicksand-simulate`, or `quicksand-eval-navigation`. \n",
    "\n",
    "The primary key is `trial_id`."
   ]
  },
  {
   "cell_type": "code",
   "execution_count": 5,
   "id": "34103723",
   "metadata": {
    "ExecuteTime": {
     "end_time": "2025-06-01T09:05:31.715616Z",
     "start_time": "2025-06-01T09:05:31.698832Z"
    }
   },
   "outputs": [],
   "source": [
    "df['trial_id'] = [str(uuid.uuid4()) for i in range(len(df))]\n",
    "\n",
    "trial_df = df.loc[\n",
    "    df.trial_type == 'survey-slider',\n",
    "    ['trial_id', 'gameID', 'rt', 'trial_index', 'response', 'questions', 'preamble']\n",
    "]\n",
    "trial_df['trial_num'] = trial_df.groupby('gameID').trial_index.rank(method='first') - 1\n",
    "trial_df['slider_num_agents'] = trial_df.response.apply(lambda x: json.loads(x)['intent_agents'])\n",
    "trial_df['slider_recipe'] = trial_df.response.apply(lambda x: json.loads(x)['intent_recipe'])\n",
    "trial_df['trial_stim'] = trial_df.preamble.apply(\n",
    "    lambda x: re.search(r'stims/([^\\.]+)\\.png', json.loads(x)).group(1))\n",
    "trial_df[['true_num_agents', 'true_recipe']] = trial_df.trial_stim.str.split('-', expand=True)\n",
    "trial_df['slider_min_agents'] = '1agent'\n",
    "trial_df['slider_max_agents'] = '2agent'\n",
    "trial_df['slider_min_recipe'] = 'tomato'\n",
    "trial_df['slider_max_recipe'] = 'onion'\n",
    "trial_df = trial_df.drop(columns=['trial_index', 'response', 'questions', 'preamble'])\n",
    "trial_df = trial_df.rename(columns={'gameID':'game_id'})"
   ]
  },
  {
   "cell_type": "code",
   "execution_count": 6,
   "id": "a3056a86",
   "metadata": {
    "ExecuteTime": {
     "end_time": "2025-06-01T09:05:31.721223Z",
     "start_time": "2025-06-01T09:05:31.716931Z"
    }
   },
   "outputs": [
    {
     "data": {
      "text/plain": [
       "trial_id                  8cc432a7-e907-4aa8-9763-7d55344fd05e\n",
       "game_id              1070-5f4cab90-27e4-4dac-88fe-8499ae78c1d7\n",
       "rt                                                      7870.9\n",
       "trial_num                                                  0.0\n",
       "slider_num_agents                                           12\n",
       "slider_recipe                                               75\n",
       "trial_stim                                        1agent-onion\n",
       "true_num_agents                                         1agent\n",
       "true_recipe                                              onion\n",
       "slider_min_agents                                       1agent\n",
       "slider_max_agents                                       2agent\n",
       "slider_min_recipe                                       tomato\n",
       "slider_max_recipe                                        onion\n",
       "Name: 7, dtype: object"
      ]
     },
     "execution_count": 6,
     "metadata": {},
     "output_type": "execute_result"
    }
   ],
   "source": [
    "trial_df.iloc[0]"
   ]
  },
  {
   "cell_type": "markdown",
   "id": "de6522bf",
   "metadata": {},
   "source": [
    "#### Misc stats"
   ]
  },
  {
   "cell_type": "code",
   "execution_count": 7,
   "id": "a90b2d09",
   "metadata": {
    "ExecuteTime": {
     "end_time": "2025-06-01T09:05:31.725159Z",
     "start_time": "2025-06-01T09:05:31.722373Z"
    }
   },
   "outputs": [
    {
     "data": {
      "text/plain": [
       "3.344711111111111"
      ]
     },
     "execution_count": 7,
     "metadata": {},
     "output_type": "execute_result"
    }
   ],
   "source": [
    "(session_df.experiment_duration_ms / (1000*60)).mean()"
   ]
  },
  {
   "cell_type": "code",
   "execution_count": 8,
   "id": "5e956f9c",
   "metadata": {
    "ExecuteTime": {
     "end_time": "2025-06-01T09:05:31.728866Z",
     "start_time": "2025-06-01T09:05:31.726423Z"
    }
   },
   "outputs": [
    {
     "name": "stdout",
     "output_type": "stream",
     "text": [
      "None\n",
      "The amount of space between the cutting boards; the closeness of the tomato/onion to the cutting boards \n",
      "\n",
      "None\n",
      "None \n",
      "\n",
      "None\n",
      "you cant use both chopping boards in some kitchens (based on overcook logic, at least lol) \n",
      "\n"
     ]
    }
   ],
   "source": [
    "for i, row in session_df.iterrows():\n",
    "    print(row.technical_difficulties)\n",
    "    print(row.feedback, '\\n')"
   ]
  },
  {
   "cell_type": "code",
   "execution_count": 15,
   "id": "d387fcb1",
   "metadata": {
    "ExecuteTime": {
     "end_time": "2025-06-01T09:09:53.536569Z",
     "start_time": "2025-06-01T09:09:53.528845Z"
    }
   },
   "outputs": [
    {
     "data": {
      "text/plain": [
       "'/Users/justyang/Code/design-inference'"
      ]
     },
     "execution_count": 15,
     "metadata": {},
     "output_type": "execute_result"
    }
   ],
   "source": [
    "os.path.abspath('../../')"
   ]
  },
  {
   "cell_type": "code",
   "execution_count": 16,
   "id": "e9e1386c",
   "metadata": {
    "ExecuteTime": {
     "end_time": "2025-06-01T09:10:02.809937Z",
     "start_time": "2025-06-01T09:10:02.795707Z"
    }
   },
   "outputs": [
    {
     "name": "stdout",
     "output_type": "stream",
     "text": [
      "saved data to /Users/justyang/Code/design-inference/data/behavioral_results/exp1/pilot_local_2...\n"
     ]
    }
   ],
   "source": [
    "project_dir = os.path.abspath('../../')\n",
    "save_dir = os.path.join(project_dir, \n",
    "                        'data', \n",
    "                        'behavioral_results', \n",
    "                        criteria['experiment'], \n",
    "                        criteria['iteration_name'])\n",
    "\n",
    "save_data = True\n",
    "if save_data:\n",
    "    if not os.path.exists(save_dir):\n",
    "        os.makedirs(save_dir)\n",
    "\n",
    "    session_df.to_csv(os.path.join(save_dir, 'session_data.csv'), index=True)\n",
    "    trial_df.to_csv(os.path.join(save_dir, 'trial_data.csv'), index=True)\n",
    "    print(f'saved data to {save_dir}...')\n",
    "else:\n",
    "    session_df = pd.read_csv(os.path.join(save_dir, 'session_data.csv'))\n",
    "    trial_df = pd.read_csv(os.path.join(save_dir, 'trial_data.csv'))\n"
   ]
  }
 ],
 "metadata": {
  "kernelspec": {
   "display_name": "Python [conda env:jupyter_notebook] *",
   "language": "python",
   "name": "conda-env-jupyter_notebook-py"
  },
  "language_info": {
   "codemirror_mode": {
    "name": "ipython",
    "version": 3
   },
   "file_extension": ".py",
   "mimetype": "text/x-python",
   "name": "python",
   "nbconvert_exporter": "python",
   "pygments_lexer": "ipython3",
   "version": "3.10.13"
  }
 },
 "nbformat": 4,
 "nbformat_minor": 5
}
